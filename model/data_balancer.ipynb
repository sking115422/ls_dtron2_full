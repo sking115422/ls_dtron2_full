{
 "cells": [
  {
   "cell_type": "code",
   "execution_count": 35,
   "metadata": {},
   "outputs": [],
   "source": [
    "import json\n",
    "import os\n",
    "import shutil\n",
    "import random\n",
    "from pandas.core.common import flatten"
   ]
  },
  {
   "cell_type": "code",
   "execution_count": 3,
   "metadata": {},
   "outputs": [],
   "source": [
    "coco_path = \"../coco_files/coco_prelab_743_n/\""
   ]
  },
  {
   "cell_type": "code",
   "execution_count": 12,
   "metadata": {},
   "outputs": [],
   "source": [
    "out_path = \"../coco_files_bal/\" + coco_path.split(\"/\")[-1] + \"_bal/\""
   ]
  },
  {
   "cell_type": "code",
   "execution_count": 14,
   "metadata": {},
   "outputs": [
    {
     "data": {
      "text/plain": [
       "'../coco_files_bal/coco_prelab_743_n_bal/'"
      ]
     },
     "execution_count": 14,
     "metadata": {},
     "output_type": "execute_result"
    }
   ],
   "source": [
    "shutil.copytree(coco_path, out_path)"
   ]
  },
  {
   "cell_type": "code",
   "execution_count": 45,
   "metadata": {},
   "outputs": [],
   "source": [
    "with open(out_path + \"result.json\") as f:\n",
    "    coco_obj = json.load(f)"
   ]
  },
  {
   "cell_type": "code",
   "execution_count": 24,
   "metadata": {},
   "outputs": [],
   "source": [
    "max_num_elem = 100"
   ]
  },
  {
   "cell_type": "code",
   "execution_count": 46,
   "metadata": {},
   "outputs": [],
   "source": [
    "ann_list = coco_obj[\"annotations\"]\n",
    "cat_list = coco_obj[\"categories\"] "
   ]
  },
  {
   "cell_type": "code",
   "execution_count": 40,
   "metadata": {},
   "outputs": [],
   "source": [
    "random.seed(1)\n",
    "ann_list_ind = []\n",
    "ann_list_final = []\n",
    "for i, cat in enumerate(cat_list):\n",
    "    ind_list = []\n",
    "    for j, ann in enumerate(ann_list):\n",
    "        if ann[\"category_id\"] == i:\n",
    "            ind_list.append(j)\n",
    "    if len(ind_list) > max_num_elem:\n",
    "        ann_list_ind.append(random.sample(ind_list, max_num_elem))\n",
    "    else:\n",
    "        ann_list_ind.append(ind_list)\n",
    "        \n",
    "ann_list_ind = list(flatten(ann_list_ind))\n",
    "\n",
    "for ind in ann_list_ind:\n",
    "    ann_list_final.append(ann_list[ind])\n",
    "\n",
    "        "
   ]
  },
  {
   "cell_type": "code",
   "execution_count": 42,
   "metadata": {},
   "outputs": [],
   "source": [
    "coco_obj[\"annotations\"] = ann_list_final"
   ]
  },
  {
   "cell_type": "code",
   "execution_count": 44,
   "metadata": {},
   "outputs": [],
   "source": [
    "with open(out_path + \"result.json\", \"w\", ) as f:\n",
    "    f.write(json.dumps(coco_obj))"
   ]
  }
 ],
 "metadata": {
  "kernelspec": {
   "display_name": "base",
   "language": "python",
   "name": "python3"
  },
  "language_info": {
   "codemirror_mode": {
    "name": "ipython",
    "version": 3
   },
   "file_extension": ".py",
   "mimetype": "text/x-python",
   "name": "python",
   "nbconvert_exporter": "python",
   "pygments_lexer": "ipython3",
   "version": "3.11.4"
  },
  "orig_nbformat": 4
 },
 "nbformat": 4,
 "nbformat_minor": 2
}
