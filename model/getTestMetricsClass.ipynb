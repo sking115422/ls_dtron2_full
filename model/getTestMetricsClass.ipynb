{
 "cells": [
  {
   "cell_type": "code",
   "execution_count": 1,
   "metadata": {},
   "outputs": [],
   "source": [
    "import json\n",
    "import os\n"
   ]
  },
  {
   "cell_type": "code",
   "execution_count": 2,
   "metadata": {},
   "outputs": [],
   "source": [
    "# Reading in results\n",
    "### bbox format: (x1, y1, x2, y2)\n",
    "\n",
    "with open(os.path.join(\"./results\", \"data_dict.json\"), \"r\") as f:\n",
    "    res_obj = json.load(f)"
   ]
  },
  {
   "cell_type": "code",
   "execution_count": 3,
   "metadata": {},
   "outputs": [],
   "source": [
    "# Reading in ground truth\n",
    "### bbox format: (x1, y1, w, h)\n",
    "\n",
    "dir_name = \"far_shah_b1-b3_EOI_split\"\n",
    "\n",
    "with open(os.path.join(\"./\", dir_name, \"test/result.json\"), \"r\") as f:\n",
    "    coco_gt_obj = json.load(f)"
   ]
  },
  {
   "cell_type": "code",
   "execution_count": 4,
   "metadata": {},
   "outputs": [
    {
     "data": {
      "text/plain": [
       "{'file_name': '/mnt/nis_lab_research/data/se_test/0007dd7ff216_1531619331791546_1531619486460952.jpg',\n",
       " 'height': 1080,\n",
       " 'width': 1920,\n",
       " 'annotations': [{'iscrowd': 0,\n",
       "   'bbox': [804.4768, 173.2269, 1113.2169, 244.052],\n",
       "   'category_id': 0,\n",
       "   'bbox_mode': 0},\n",
       "  {'iscrowd': 0,\n",
       "   'bbox': [1218.7217, 479.8084, 1308.3959, 522.0554],\n",
       "   'category_id': 0,\n",
       "   'bbox_mode': 0},\n",
       "  {'iscrowd': 0,\n",
       "   'bbox': [293.754, 11.7548, 332.2216, 51.3159],\n",
       "   'category_id': 0,\n",
       "   'bbox_mode': 0},\n",
       "  {'iscrowd': 0,\n",
       "   'bbox': [321.4331, 209.2276, 490.6205, 239.5062],\n",
       "   'category_id': 0,\n",
       "   'bbox_mode': 0},\n",
       "  {'iscrowd': 0,\n",
       "   'bbox': [1073.5745, 572.0043, 1113.8889, 609.2933],\n",
       "   'category_id': 0,\n",
       "   'bbox_mode': 0},\n",
       "  {'iscrowd': 0,\n",
       "   'bbox': [900.1957, 571.0109, 941.4464, 610.8967],\n",
       "   'category_id': 0,\n",
       "   'bbox_mode': 0},\n",
       "  {'iscrowd': 0,\n",
       "   'bbox': [1.878, 7.645, 287.2118, 56.7851],\n",
       "   'category_id': 0,\n",
       "   'bbox_mode': 0},\n",
       "  {'iscrowd': 0,\n",
       "   'bbox': [729.3143, 571.6522, 767.2729, 612.0123],\n",
       "   'category_id': 0,\n",
       "   'bbox_mode': 0},\n",
       "  {'iscrowd': 0,\n",
       "   'bbox': [315.8501, 807.4886, 415.0708, 858.5485],\n",
       "   'category_id': 0,\n",
       "   'bbox_mode': 0},\n",
       "  {'iscrowd': 0,\n",
       "   'bbox': [842.7429, 569.9085, 884.3547, 610.5016],\n",
       "   'category_id': 0,\n",
       "   'bbox_mode': 0},\n",
       "  {'iscrowd': 0,\n",
       "   'bbox': [1332.3057, 808.1493, 1358.0593, 832.7826],\n",
       "   'category_id': 0,\n",
       "   'bbox_mode': 0},\n",
       "  {'iscrowd': 0,\n",
       "   'bbox': [1130.74, 570.1953, 1171.8112, 609.6035],\n",
       "   'category_id': 0,\n",
       "   'bbox_mode': 0},\n",
       "  {'iscrowd': 0,\n",
       "   'bbox': [958.2991, 571.2711, 999.2429, 610.9854],\n",
       "   'category_id': 0,\n",
       "   'bbox_mode': 0},\n",
       "  {'iscrowd': 0,\n",
       "   'bbox': [1347.6522, 243.2887, 1385.4751, 272.3431],\n",
       "   'category_id': 0,\n",
       "   'bbox_mode': 0},\n",
       "  {'iscrowd': 0,\n",
       "   'bbox': [1353.8324, 222.2347, 1379.6567, 243.529],\n",
       "   'category_id': 0,\n",
       "   'bbox_mode': 0},\n",
       "  {'iscrowd': 0,\n",
       "   'bbox': [853.8173, 356.0312, 1020.2292, 428.4048],\n",
       "   'category_id': 0,\n",
       "   'bbox_mode': 0},\n",
       "  {'iscrowd': 0,\n",
       "   'bbox': [1463.9097, 210.0431, 1510.9406, 252.5342],\n",
       "   'category_id': 0,\n",
       "   'bbox_mode': 0},\n",
       "  {'iscrowd': 0,\n",
       "   'bbox': [783.5921, 570.7077, 825.7258, 610.5855],\n",
       "   'category_id': 0,\n",
       "   'bbox_mode': 0},\n",
       "  {'iscrowd': 0,\n",
       "   'bbox': [420.6118, 944.2444, 667.9542, 972.7249],\n",
       "   'category_id': 0,\n",
       "   'bbox_mode': 0}]}"
      ]
     },
     "execution_count": 4,
     "metadata": {},
     "output_type": "execute_result"
    }
   ],
   "source": [
    "res_obj[0]"
   ]
  },
  {
   "cell_type": "code",
   "execution_count": 5,
   "metadata": {},
   "outputs": [
    {
     "data": {
      "text/plain": [
       "{'id': 30144,\n",
       " 'image_id': 2114,\n",
       " 'category_id': 1,\n",
       " 'segmentation': [],\n",
       " 'bbox': [1872.5691699604743,\n",
       "  4.268774703557313,\n",
       "  41.26482213438749,\n",
       "  36.996047430830046],\n",
       " 'ignore': 0,\n",
       " 'iscrowd': 0,\n",
       " 'area': 1526.635316908565}"
      ]
     },
     "execution_count": 5,
     "metadata": {},
     "output_type": "execute_result"
    }
   ],
   "source": [
    "coco_gt_obj[\"annotations\"][0]"
   ]
  },
  {
   "cell_type": "code",
   "execution_count": 6,
   "metadata": {},
   "outputs": [],
   "source": [
    "# Group By Image\n",
    "\n",
    "imgs_gt_pred_list = {}\n",
    "\n",
    "for img in coco_gt_obj[\"images\"]:\n",
    "    fn1 = img[\"file_name\"][2:]\n",
    "    img_id = img[\"id\"]\n",
    "    \n",
    "    gt_list = []\n",
    "\n",
    "    for ann1 in coco_gt_obj[\"annotations\"]:\n",
    "        if img_id == ann1[\"image_id\"]:\n",
    "            x1 = ann1[\"bbox\"][0]\n",
    "            y1 = ann1[\"bbox\"][1]\n",
    "            w = ann1[\"bbox\"][2]\n",
    "            h = ann1[\"bbox\"][3]\n",
    "            gt_list.append([x1, y1, x1 + w, y1 + h])\n",
    "    \n",
    "    pred_list = []\n",
    "    \n",
    "    for res in res_obj:\n",
    "        fn2 = os.path.basename(res[\"file_name\"])\n",
    "        if fn1 == fn2:\n",
    "            for ann2 in res[\"annotations\"]:\n",
    "                pred_list.append(ann2[\"bbox\"])\n",
    "    \n",
    "    imgs_gt_pred_list[fn1] = [gt_list, pred_list]\n",
    "            \n",
    "\n"
   ]
  },
  {
   "cell_type": "code",
   "execution_count": 7,
   "metadata": {},
   "outputs": [],
   "source": [
    "keys = list(imgs_gt_pred_list.keys())\n"
   ]
  },
  {
   "cell_type": "code",
   "execution_count": 8,
   "metadata": {},
   "outputs": [],
   "source": [
    "def calculate_iou(boxA, boxB):\n",
    "    \n",
    "    # Determine the coordinates of the intersection rectangle\n",
    "    xA = max(boxA[0], boxB[0])\n",
    "    yA = max(boxA[1], boxB[1])\n",
    "    xB = min(boxA[2], boxB[2])\n",
    "    yB = min(boxA[3], boxB[3])\n",
    "    \n",
    "    # Compute the area of intersection rectangle\n",
    "    interArea = max(0, xB - xA) * max(0, yB - yA)\n",
    "    \n",
    "    # Compute the area of both the prediction and true bounding boxes\n",
    "    boxAArea = (boxA[2] - boxA[0]) * (boxA[3] - boxA[1])\n",
    "    boxBArea = (boxB[2] - boxB[0]) * (boxB[3] - boxB[1])\n",
    "    \n",
    "    # Compute the area of union\n",
    "    unionArea = boxAArea + boxBArea - interArea\n",
    "    \n",
    "    # Compute the Intersection over Union by dividing the intersection area by the union area\n",
    "    iou = interArea / unionArea\n",
    "    \n",
    "    return iou"
   ]
  },
  {
   "cell_type": "code",
   "execution_count": 9,
   "metadata": {},
   "outputs": [],
   "source": [
    "thold = .50"
   ]
  },
  {
   "cell_type": "code",
   "execution_count": 10,
   "metadata": {},
   "outputs": [],
   "source": [
    "iou_scores = []\n",
    "for key in keys:\n",
    "    gts = imgs_gt_pred_list[key][0]\n",
    "    preds = imgs_gt_pred_list[key][1]\n",
    "    per_img_scores = []\n",
    "    for i, pred in enumerate(preds): \n",
    "        for j, gt in enumerate(gts):\n",
    "            iou = calculate_iou(pred, gt)\n",
    "            if iou >= thold:\n",
    "                per_img_scores.append(iou)\n",
    "                break\n",
    "        if iou < thold: \n",
    "            per_img_scores.append(iou)\n",
    "    iou_scores.append([len(gts), len(preds), per_img_scores])"
   ]
  },
  {
   "cell_type": "code",
   "execution_count": 11,
   "metadata": {},
   "outputs": [],
   "source": [
    "conf_mat = []\n",
    "for img in iou_scores:\n",
    "    tp = len([x for x in img[2] if x > thold])\n",
    "    num_gt = img[0]\n",
    "    num_pred = img[1]\n",
    "    fp = num_pred - tp\n",
    "    fn = num_gt - tp\n",
    "    if fn < 0:\n",
    "        fn = 0\n",
    "    conf_mat.append([tp, fp, fn])\n",
    "    "
   ]
  },
  {
   "cell_type": "code",
   "execution_count": 12,
   "metadata": {},
   "outputs": [
    {
     "ename": "ZeroDivisionError",
     "evalue": "division by zero",
     "output_type": "error",
     "traceback": [
      "\u001b[0;31m---------------------------------------------------------------------------\u001b[0m",
      "\u001b[0;31mZeroDivisionError\u001b[0m                         Traceback (most recent call last)",
      "Cell \u001b[0;32mIn[12], line 6\u001b[0m\n\u001b[1;32m      4\u001b[0m         iou_scores_flat\u001b[38;5;241m.\u001b[39mappend(item)\n\u001b[1;32m      5\u001b[0m corr \u001b[38;5;241m=\u001b[39m \u001b[38;5;28mlen\u001b[39m([x \u001b[38;5;28;01mfor\u001b[39;00m x \u001b[38;5;129;01min\u001b[39;00m iou_scores_flat \u001b[38;5;28;01mif\u001b[39;00m x \u001b[38;5;241m>\u001b[39m thold])\n\u001b[0;32m----> 6\u001b[0m accuracy \u001b[38;5;241m=\u001b[39m \u001b[43mcorr\u001b[49m\u001b[38;5;241;43m/\u001b[39;49m\u001b[38;5;28;43mlen\u001b[39;49m\u001b[43m(\u001b[49m\u001b[43miou_scores_flat\u001b[49m\u001b[43m)\u001b[49m\n\u001b[1;32m      7\u001b[0m accuracy\n",
      "\u001b[0;31mZeroDivisionError\u001b[0m: division by zero"
     ]
    }
   ],
   "source": [
    "iou_scores_flat = []\n",
    "for img in iou_scores:\n",
    "    for item in img[-1]:\n",
    "        iou_scores_flat.append(item)\n",
    "corr = len([x for x in iou_scores_flat if x > thold])\n",
    "accuracy = corr/len(iou_scores_flat)\n",
    "accuracy"
   ]
  },
  {
   "cell_type": "code",
   "execution_count": null,
   "metadata": {},
   "outputs": [
    {
     "ename": "",
     "evalue": "",
     "output_type": "error",
     "traceback": [
      "\u001b[1;31mRunning cells with 'dtron2_venv' requires the ipykernel package.\n",
      "\u001b[1;31mRun the following command to install 'ipykernel' into the Python environment. \n",
      "\u001b[1;31mCommand: 'conda install -n dtron2_venv ipykernel --update-deps --force-reinstall'"
     ]
    }
   ],
   "source": [
    "tp_tot = 0\n",
    "fp_tot = 0\n",
    "fn_tot = 0\n",
    "\n",
    "for img in conf_mat:\n",
    "    tp_tot = tp_tot + img[0]\n",
    "    fp_tot = fp_tot + img[1]\n",
    "    tn_tot = 0\n",
    "    fn_tot = fn_tot + img[2]\n",
    "    "
   ]
  },
  {
   "cell_type": "code",
   "execution_count": null,
   "metadata": {},
   "outputs": [
    {
     "ename": "",
     "evalue": "",
     "output_type": "error",
     "traceback": [
      "\u001b[1;31mRunning cells with 'dtron2_venv' requires the ipykernel package.\n",
      "\u001b[1;31mRun the following command to install 'ipykernel' into the Python environment. \n",
      "\u001b[1;31mCommand: 'conda install -n dtron2_venv ipykernel --update-deps --force-reinstall'"
     ]
    }
   ],
   "source": [
    "precision = tp_tot/(tp_tot + fp_tot)\n",
    "recall = tp_tot/(tp_tot + fn_tot)\n",
    "f1_score = 2 * (precision * recall) / (precision + recall)\n",
    "print(precision)\n",
    "print(recall)\n",
    "print(f1_score)"
   ]
  }
 ],
 "metadata": {
  "kernelspec": {
   "display_name": "dtron2_venv",
   "language": "python",
   "name": "python3"
  },
  "language_info": {
   "codemirror_mode": {
    "name": "ipython",
    "version": 3
   },
   "file_extension": ".py",
   "mimetype": "text/x-python",
   "name": "python",
   "nbconvert_exporter": "python",
   "pygments_lexer": "ipython3",
   "version": "3.11.5"
  }
 },
 "nbformat": 4,
 "nbformat_minor": 2
}
