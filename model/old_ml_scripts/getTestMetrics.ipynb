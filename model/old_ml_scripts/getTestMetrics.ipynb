{
 "cells": [
  {
   "cell_type": "code",
   "execution_count": 1,
   "metadata": {},
   "outputs": [],
   "source": [
    "import json\n",
    "import os\n"
   ]
  },
  {
   "cell_type": "code",
   "execution_count": 2,
   "metadata": {},
   "outputs": [],
   "source": [
    "# Reading in results\n",
    "### bbox format: (x1, y1, x2, y2)\n",
    "\n",
    "with open(os.path.join(\"./results\", \"data_dict.json\"), \"r\") as f:\n",
    "    res_obj = json.load(f)"
   ]
  },
  {
   "cell_type": "code",
   "execution_count": 3,
   "metadata": {},
   "outputs": [],
   "source": [
    "# Reading in ground truth\n",
    "### bbox format: (x1, y1, w, h)\n",
    "\n",
    "dir_name = \"far_shah_b1-b3_EOI_split\"\n",
    "\n",
    "with open(os.path.join(\"./\", dir_name, \"test/result.json\"), \"r\") as f:\n",
    "    coco_gt_obj = json.load(f)"
   ]
  },
  {
   "cell_type": "code",
   "execution_count": 4,
   "metadata": {},
   "outputs": [
    {
     "data": {
      "text/plain": [
       "{'file_name': '/home/dtron2_user/ls_dtron2_full/model/far_shah_b1-b3_EOI_split/test/images/ZF4ZoJhxQjlNSu7V-serenohotels_ss.png',\n",
       " 'height': 1080,\n",
       " 'width': 1920,\n",
       " 'annotations': [{'iscrowd': 0,\n",
       "   'bbox': [1095.8163, 970.0453, 1252.8141, 1011.1241],\n",
       "   'category_id': 0,\n",
       "   'bbox_mode': 0},\n",
       "  {'iscrowd': 0,\n",
       "   'bbox': [1095.2361, 858.6618, 1253.1652, 901.2455],\n",
       "   'category_id': 0,\n",
       "   'bbox_mode': 0},\n",
       "  {'iscrowd': 0,\n",
       "   'bbox': [861.5819, 2.8884, 1059.9102, 68.0269],\n",
       "   'category_id': 0,\n",
       "   'bbox_mode': 0},\n",
       "  {'iscrowd': 0,\n",
       "   'bbox': [1095.2179, 912.0303, 1252.0514, 956.3156],\n",
       "   'category_id': 0,\n",
       "   'bbox_mode': 0},\n",
       "  {'iscrowd': 0,\n",
       "   'bbox': [42.4671, 908.2764, 107.5965, 975.386],\n",
       "   'category_id': 0,\n",
       "   'bbox_mode': 0},\n",
       "  {'iscrowd': 0,\n",
       "   'bbox': [1212.4924, 1049.0056, 1295.7235, 1079.5737],\n",
       "   'category_id': 0,\n",
       "   'bbox_mode': 0},\n",
       "  {'iscrowd': 0,\n",
       "   'bbox': [1822.4149, 15.0026, 1911.9615, 40.7503],\n",
       "   'category_id': 0,\n",
       "   'bbox_mode': 0},\n",
       "  {'iscrowd': 0,\n",
       "   'bbox': [1467.7878, 858.6538, 1488.7382, 880.8246],\n",
       "   'category_id': 0,\n",
       "   'bbox_mode': 0},\n",
       "  {'iscrowd': 0,\n",
       "   'bbox': [1097.0319, 947.4213, 1255.6111, 1034.3105],\n",
       "   'category_id': 0,\n",
       "   'bbox_mode': 0},\n",
       "  {'iscrowd': 0,\n",
       "   'bbox': [1521.9622, 77.6272, 1875.9767, 460.6541],\n",
       "   'category_id': 0,\n",
       "   'bbox_mode': 0}]}"
      ]
     },
     "execution_count": 4,
     "metadata": {},
     "output_type": "execute_result"
    }
   ],
   "source": [
    "res_obj[0]"
   ]
  },
  {
   "cell_type": "code",
   "execution_count": 5,
   "metadata": {},
   "outputs": [
    {
     "data": {
      "text/plain": [
       "{'id': 30144,\n",
       " 'image_id': 2114,\n",
       " 'category_id': 1,\n",
       " 'segmentation': [],\n",
       " 'bbox': [1872.5691699604743,\n",
       "  4.268774703557313,\n",
       "  41.26482213438749,\n",
       "  36.996047430830046],\n",
       " 'ignore': 0,\n",
       " 'iscrowd': 0,\n",
       " 'area': 1526.635316908565}"
      ]
     },
     "execution_count": 5,
     "metadata": {},
     "output_type": "execute_result"
    }
   ],
   "source": [
    "coco_gt_obj[\"annotations\"][0]"
   ]
  },
  {
   "cell_type": "code",
   "execution_count": 6,
   "metadata": {},
   "outputs": [],
   "source": [
    "# Group By Image\n",
    "\n",
    "imgs_gt_pred_list = {}\n",
    "\n",
    "for img in coco_gt_obj[\"images\"]:\n",
    "    fn1 = img[\"file_name\"][2:]\n",
    "    img_id = img[\"id\"]\n",
    "    \n",
    "    gt_list = []\n",
    "\n",
    "    for ann1 in coco_gt_obj[\"annotations\"]:\n",
    "        if img_id == ann1[\"image_id\"]:\n",
    "            x1 = ann1[\"bbox\"][0]\n",
    "            y1 = ann1[\"bbox\"][1]\n",
    "            w = ann1[\"bbox\"][2]\n",
    "            h = ann1[\"bbox\"][3]\n",
    "            gt_list.append([x1, y1, x1 + w, y1 + h])\n",
    "    \n",
    "    pred_list = []\n",
    "    \n",
    "    for res in res_obj:\n",
    "        fn2 = os.path.basename(res[\"file_name\"])\n",
    "        if fn1 == fn2:\n",
    "            for ann2 in res[\"annotations\"]:\n",
    "                pred_list.append(ann2[\"bbox\"])\n",
    "    \n",
    "    imgs_gt_pred_list[fn1] = [gt_list, pred_list]\n",
    "            \n",
    "\n"
   ]
  },
  {
   "cell_type": "code",
   "execution_count": 7,
   "metadata": {},
   "outputs": [],
   "source": [
    "keys = list(imgs_gt_pred_list.keys())\n"
   ]
  },
  {
   "cell_type": "code",
   "execution_count": 8,
   "metadata": {},
   "outputs": [],
   "source": [
    "def calculate_iou(boxA, boxB):\n",
    "    \n",
    "    # Determine the coordinates of the intersection rectangle\n",
    "    xA = max(boxA[0], boxB[0])\n",
    "    yA = max(boxA[1], boxB[1])\n",
    "    xB = min(boxA[2], boxB[2])\n",
    "    yB = min(boxA[3], boxB[3])\n",
    "    \n",
    "    # Compute the area of intersection rectangle\n",
    "    interArea = max(0, xB - xA) * max(0, yB - yA)\n",
    "    \n",
    "    # Compute the area of both the prediction and true bounding boxes\n",
    "    boxAArea = (boxA[2] - boxA[0]) * (boxA[3] - boxA[1])\n",
    "    boxBArea = (boxB[2] - boxB[0]) * (boxB[3] - boxB[1])\n",
    "    \n",
    "    # Compute the area of union\n",
    "    unionArea = boxAArea + boxBArea - interArea\n",
    "    \n",
    "    # Compute the Intersection over Union by dividing the intersection area by the union area\n",
    "    iou = interArea / unionArea\n",
    "    \n",
    "    return iou"
   ]
  },
  {
   "cell_type": "code",
   "execution_count": 35,
   "metadata": {},
   "outputs": [],
   "source": [
    "thold = .95"
   ]
  },
  {
   "cell_type": "code",
   "execution_count": 36,
   "metadata": {},
   "outputs": [],
   "source": [
    "iou_scores = []\n",
    "for key in keys:\n",
    "    gts = imgs_gt_pred_list[key][0]\n",
    "    preds = imgs_gt_pred_list[key][1]\n",
    "    per_img_scores = []\n",
    "    for i, pred in enumerate(preds): \n",
    "        for j, gt in enumerate(gts):\n",
    "            iou = calculate_iou(pred, gt)\n",
    "            if iou >= thold:\n",
    "                per_img_scores.append(iou)\n",
    "                break\n",
    "        if iou < thold: \n",
    "            per_img_scores.append(iou)\n",
    "    iou_scores.append([len(gts), len(preds), per_img_scores])"
   ]
  },
  {
   "cell_type": "code",
   "execution_count": 37,
   "metadata": {},
   "outputs": [],
   "source": [
    "conf_mat = []\n",
    "for img in iou_scores:\n",
    "    tp = len([x for x in img[2] if x > thold])\n",
    "    num_gt = img[0]\n",
    "    num_pred = img[1]\n",
    "    fp = num_pred - tp\n",
    "    fn = num_gt - tp\n",
    "    if fn < 0:\n",
    "        fn = 0\n",
    "    conf_mat.append([tp, fp, fn])\n",
    "    "
   ]
  },
  {
   "cell_type": "code",
   "execution_count": 38,
   "metadata": {},
   "outputs": [
    {
     "data": {
      "text/plain": [
       "0.003979131665045539"
      ]
     },
     "execution_count": 38,
     "metadata": {},
     "output_type": "execute_result"
    }
   ],
   "source": [
    "iou_scores_flat = []\n",
    "for img in iou_scores:\n",
    "    for item in img[-1]:\n",
    "        iou_scores_flat.append(item)\n",
    "corr = len([x for x in iou_scores_flat if x > thold])\n",
    "accuracy = corr/len(iou_scores_flat)\n",
    "accuracy"
   ]
  },
  {
   "cell_type": "code",
   "execution_count": 39,
   "metadata": {},
   "outputs": [],
   "source": [
    "tp_tot = 0\n",
    "fp_tot = 0\n",
    "fn_tot = 0\n",
    "\n",
    "for img in conf_mat:\n",
    "    tp_tot = tp_tot + img[0]\n",
    "    fp_tot = fp_tot + img[1]\n",
    "    tn_tot = 0\n",
    "    fn_tot = fn_tot + img[2]\n",
    "    "
   ]
  },
  {
   "cell_type": "code",
   "execution_count": 40,
   "metadata": {},
   "outputs": [
    {
     "name": "stdout",
     "output_type": "stream",
     "text": [
      "0.003979131665045539\n",
      "0.006669630947087594\n",
      "0.004984492689410722\n"
     ]
    }
   ],
   "source": [
    "precision = tp_tot/(tp_tot + fp_tot)\n",
    "recall = tp_tot/(tp_tot + fn_tot)\n",
    "f1_score = 2 * (precision * recall) / (precision + recall)\n",
    "print(precision)\n",
    "print(recall)\n",
    "print(f1_score)"
   ]
  }
 ],
 "metadata": {
  "kernelspec": {
   "display_name": "dtron2_venv",
   "language": "python",
   "name": "python3"
  },
  "language_info": {
   "codemirror_mode": {
    "name": "ipython",
    "version": 3
   },
   "file_extension": ".py",
   "mimetype": "text/x-python",
   "name": "python",
   "nbconvert_exporter": "python",
   "pygments_lexer": "ipython3",
   "version": "3.11.5"
  }
 },
 "nbformat": 4,
 "nbformat_minor": 2
}
