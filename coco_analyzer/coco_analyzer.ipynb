{
 "cells": [
  {
   "cell_type": "code",
   "execution_count": 19,
   "metadata": {},
   "outputs": [],
   "source": [
    "import json\n",
    "from collections import Counter\n",
    "import pandas as pd"
   ]
  },
  {
   "cell_type": "code",
   "execution_count": 2,
   "metadata": {},
   "outputs": [],
   "source": [
    "coco_json_path = \"/home/spenc/research/ls_dron2/ls_detectron2_objdet/coco_files/coco_prelab_743_n/result.json\""
   ]
  },
  {
   "cell_type": "code",
   "execution_count": 3,
   "metadata": {},
   "outputs": [],
   "source": [
    "with open(coco_json_path) as f:\n",
    "    coco_json_obj = json.load(f)\n"
   ]
  },
  {
   "cell_type": "code",
   "execution_count": 32,
   "metadata": {},
   "outputs": [],
   "source": [
    "ann_list = coco_json_obj[\"annotations\"]\n",
    "cat_list = coco_json_obj[\"categories\"]\n",
    "img_list = coco_json_obj[\"images\"]"
   ]
  },
  {
   "cell_type": "code",
   "execution_count": 27,
   "metadata": {},
   "outputs": [],
   "source": [
    "# Getting overall coco breakdown\n",
    "\n",
    "cat_occ_list = []\n",
    "for ann in ann_list:\n",
    "    cat_occ_list.append(ann[\"category_id\"])\n",
    "    \n",
    "cat_keys = Counter(cat_occ_list).keys()\n",
    "cat_vals = Counter(cat_occ_list).values()\n",
    "\n",
    "cat_name_list = []\n",
    "for key in cat_keys:\n",
    "    for item in cat_list:\n",
    "        if key == item[\"id\"]:\n",
    "            cat_name_list.append(item[\"name\"])\n",
    "\n",
    "df_tot = pd.DataFrame({\"cat_key\": list(cat_keys), \"cat_name\": cat_name_list, \"cat_count\": list(cat_vals)}).sort_values(by=\"cat_count\", ascending=False)\n",
    "\n",
    "df_tot\n",
    "           "
   ]
  },
  {
   "cell_type": "code",
   "execution_count": 29,
   "metadata": {},
   "outputs": [],
   "source": [
    "# Exporting overall breakdown to CSV\n",
    "\n",
    "df_tot.to_csv(\"./coco_ann_tot.csv\")\n"
   ]
  },
  {
   "cell_type": "code",
   "execution_count": 48,
   "metadata": {},
   "outputs": [],
   "source": [
    "# Getting individual img analysis\n",
    "\n",
    "f = open(\"./coco_ann_full.txt\", \"w+\")\n",
    "f.write(\"FULL COCO JSON FILE ANALYSIS\\n\\n\")\n",
    "\n",
    "img_id_list = []\n",
    "\n",
    "for item in img_list: \n",
    "    img_id_list.append([item[\"id\"], item[\"file_name\"]])\n",
    "\n",
    "for each in img_id_list:\n",
    "    \n",
    "    f.write(\"Image \" + str(each[0]) + \" > \" + each[1] + \"\\n\")\n",
    "    single_img_list = []\n",
    "    \n",
    "    for item in ann_list:\n",
    "        if each[0] == item[\"image_id\"]:\n",
    "            single_img_list.append(item[\"category_id\"])\n",
    "            cat_keys = Counter(single_img_list).keys()\n",
    "            cat_vals = Counter(single_img_list).values()\n",
    "\n",
    "            cat_name_list = []\n",
    "            for key in cat_keys:\n",
    "                for thing in cat_list:\n",
    "                    if key == thing[\"id\"]:\n",
    "                        cat_name_list.append(thing[\"name\"])\n",
    "    \n",
    "    for i in range(0, len(cat_keys)):\n",
    "        f.write(\"   \" + str(list(cat_keys)[i]) + \" \" + cat_name_list[i] + \" > \" + str(list(cat_vals)[i]) + \"\\n\")\n",
    "        \n",
    "    f.write(\"\\n\")\n",
    "       \n",
    "f.close()\n"
   ]
  }
 ],
 "metadata": {
  "kernelspec": {
   "display_name": "base",
   "language": "python",
   "name": "python3"
  },
  "language_info": {
   "codemirror_mode": {
    "name": "ipython",
    "version": 3
   },
   "file_extension": ".py",
   "mimetype": "text/x-python",
   "name": "python",
   "nbconvert_exporter": "python",
   "pygments_lexer": "ipython3",
   "version": "3.11.4"
  },
  "orig_nbformat": 4
 },
 "nbformat": 4,
 "nbformat_minor": 2
}
